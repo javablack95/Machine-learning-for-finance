{
  "nbformat": 4,
  "nbformat_minor": 0,
  "metadata": {
    "colab": {
      "name": "Python_for_finance",
      "version": "0.3.2",
      "provenance": [],
      "include_colab_link": true
    },
    "kernelspec": {
      "name": "python3",
      "display_name": "Python 3"
    }
  },
  "cells": [
    {
      "cell_type": "markdown",
      "metadata": {
        "id": "view-in-github",
        "colab_type": "text"
      },
      "source": [
        "<a href=\"https://colab.research.google.com/github/javablack95/Machine-learning-for-finance/blob/master/Python_for_finance.ipynb\" target=\"_parent\"><img src=\"https://colab.research.google.com/assets/colab-badge.svg\" alt=\"Open In Colab\"/></a>"
      ]
    },
    {
      "metadata": {
        "id": "bti1Tyh_4z9F",
        "colab_type": "text"
      },
      "cell_type": "markdown",
      "source": [
        "# **Data Collection**\n",
        "The data is downloadd from kaggle using the Kaggle api"
      ]
    },
    {
      "metadata": {
        "id": "WrJK2iaeTQ53",
        "colab_type": "code",
        "outputId": "093592d7-3e3e-4a97-db86-996e8282b0c8",
        "colab": {
          "resources": {
            "http://localhost:8080/nbextensions/google.colab/files.js": {
              "data": "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",
              "ok": true,
              "headers": [
                [
                  "content-type",
                  "application/javascript"
                ]
              ],
              "status": 200,
              "status_text": "OK"
            }
          },
          "base_uri": "https://localhost:8080/",
          "height": 77
        }
      },
      "cell_type": "code",
      "source": [
        "# Install the Kaggle API client\n",
        "\n",
        "!pip install -q kaggle\n",
        "\n",
        "!apt-get install pv  >> /dev/null    # extract .tar file\n",
        "\n",
        "# Upload Json File\n",
        "\n",
        "import os\n",
        "\n",
        "if not os.path.isfile('kaggle.json'):\n",
        "\n",
        "  from google.colab import files\n",
        "\n",
        "  files.upload()\n",
        "\n"
      ],
      "execution_count": 1,
      "outputs": [
        {
          "output_type": "display_data",
          "data": {
            "text/html": [
              "\n",
              "     <input type=\"file\" id=\"files-7078d014-26ac-4297-85e3-59492c5ad356\" name=\"files[]\" multiple disabled />\n",
              "     <output id=\"result-7078d014-26ac-4297-85e3-59492c5ad356\">\n",
              "      Upload widget is only available when the cell has been executed in the\n",
              "      current browser session. Please rerun this cell to enable.\n",
              "      </output>\n",
              "      <script src=\"/nbextensions/google.colab/files.js\"></script> "
            ],
            "text/plain": [
              "<IPython.core.display.HTML object>"
            ]
          },
          "metadata": {
            "tags": []
          }
        },
        {
          "output_type": "stream",
          "text": [
            "Saving kaggle.json to kaggle.json\n"
          ],
          "name": "stdout"
        }
      ]
    },
    {
      "metadata": {
        "id": "XiRzKOyYTWwN",
        "colab_type": "code",
        "outputId": "2fda4470-3fec-406e-c694-5ecd99a745b9",
        "colab": {
          "base_uri": "https://localhost:8080/",
          "height": 256
        }
      },
      "cell_type": "code",
      "source": [
        "# The Kaggle API client expects this file to be in ~/.kaggle \n",
        "\n",
        "%%bash\n",
        "\n",
        "\n",
        "\n",
        "mkdir -p ~/.kaggle\n",
        "\n",
        "cp kaggle.json ~/.kaggle/\n",
        "\n",
        "chmod 600 ~/.kaggle/kaggle.json  #  avoids a warning on Kaggle tool startup.\n",
        "\n",
        "\n",
        "# Download the 500 company stock data\n",
        "printf \"S&P 500 stock data Dataset:\\n\\n\"\n",
        "kaggle datasets files camnugent/sandp500\n",
        "\n",
        "printf \"\\nDownloading S&P 500 stock datasets..\\n\"\n",
        "kaggle datasets download -d camnugent/sandp500"
      ],
      "execution_count": 2,
      "outputs": [
        {
          "output_type": "stream",
          "text": [
            "S&P 500 stock data Dataset:\n",
            "\n",
            "name                       size  creationDate         \n",
            "-------------------------  ----  -------------------  \n",
            "all_stocks_5yr.csv         28MB  2018-02-10 03:13:43  \n",
            "getSandP.py                 5KB  2018-02-10 03:15:32  \n",
            "individual_stocks_5yr.zip  10MB  2018-02-10 03:13:02  \n",
            "merge.sh                   190B  2018-02-10 03:14:05  \n",
            "\n",
            "Downloading S&P 500 stock datasets..\n",
            "Downloading sandp500.zip to /content\n",
            "\n"
          ],
          "name": "stdout"
        },
        {
          "output_type": "stream",
          "text": [
            "\r  0%|          | 0.00/19.2M [00:00<?, ?B/s]\r 26%|##5       | 5.00M/19.2M [00:00<00:00, 36.2MB/s]\r 62%|######2   | 12.0M/19.2M [00:00<00:00, 42.5MB/s]\r100%|##########| 19.2M/19.2M [00:00<00:00, 63.8MB/s]\n"
          ],
          "name": "stderr"
        }
      ]
    },
    {
      "metadata": {
        "id": "Xhv7xQ_5QxqW",
        "colab_type": "code",
        "colab": {
          "base_uri": "https://localhost:8080/",
          "height": 35
        },
        "outputId": "225fb2d4-6d58-4f49-e7f5-d9bd4eff70f0"
      },
      "cell_type": "code",
      "source": [
        "!ls"
      ],
      "execution_count": 3,
      "outputs": [
        {
          "output_type": "stream",
          "text": [
            "kaggle.json  sample_data  sandp500.zip\n"
          ],
          "name": "stdout"
        }
      ]
    },
    {
      "metadata": {
        "id": "eoQYAHvbQ0oZ",
        "colab_type": "code",
        "colab": {
          "base_uri": "https://localhost:8080/",
          "height": 109
        },
        "outputId": "68a22f4d-8612-46d0-f2c3-1a37de47d247"
      },
      "cell_type": "code",
      "source": [
        "!unzip sandp500.zip"
      ],
      "execution_count": 4,
      "outputs": [
        {
          "output_type": "stream",
          "text": [
            "Archive:  sandp500.zip\n",
            "  inflating: merge.sh                \n",
            "  inflating: individual_stocks_5yr.zip  \n",
            "  inflating: getSandP.py             \n",
            "  inflating: all_stocks_5yr.csv      \n"
          ],
          "name": "stdout"
        }
      ]
    },
    {
      "metadata": {
        "id": "NXtwTg-PRYIN",
        "colab_type": "code",
        "colab": {
          "base_uri": "https://localhost:8080/",
          "height": 54
        },
        "outputId": "0f1899cb-33d7-4002-cef5-72251f2ff01d"
      },
      "cell_type": "code",
      "source": [
        "!ls"
      ],
      "execution_count": 5,
      "outputs": [
        {
          "output_type": "stream",
          "text": [
            "all_stocks_5yr.csv  individual_stocks_5yr.zip  merge.sh     sandp500.zip\n",
            "getSandP.py\t    kaggle.json\t\t       sample_data\n"
          ],
          "name": "stdout"
        }
      ]
    },
    {
      "metadata": {
        "id": "sD4yBDewRflU",
        "colab_type": "code",
        "colab": {
          "base_uri": "https://localhost:8080/",
          "height": 9476
        },
        "outputId": "64fbcba1-5c78-47ea-8a81-8670c909e479"
      },
      "cell_type": "code",
      "source": [
        "!unzip individual_stocks_5yr.zip"
      ],
      "execution_count": 6,
      "outputs": [
        {
          "output_type": "stream",
          "text": [
            "Archive:  individual_stocks_5yr.zip\n",
            "   creating: individual_stocks_5yr/\n",
            "  inflating: individual_stocks_5yr/XRX_data.csv  \n",
            "  inflating: individual_stocks_5yr/GS_data.csv  \n",
            "  inflating: individual_stocks_5yr/SPGI_data.csv  \n",
            "  inflating: individual_stocks_5yr/MTB_data.csv  \n",
            "  inflating: individual_stocks_5yr/V_data.csv  \n",
            "  inflating: individual_stocks_5yr/CTAS_data.csv  \n",
            "  inflating: individual_stocks_5yr/ESRX_data.csv  \n",
            "  inflating: individual_stocks_5yr/APH_data.csv  \n",
            "  inflating: individual_stocks_5yr/BBT_data.csv  \n",
            "  inflating: individual_stocks_5yr/RHI_data.csv  \n",
            "  inflating: individual_stocks_5yr/GGP_data.csv  \n",
            "  inflating: individual_stocks_5yr/HCA_data.csv  \n",
            "  inflating: individual_stocks_5yr/HD_data.csv  \n",
            "  inflating: individual_stocks_5yr/PEP_data.csv  \n",
            "  inflating: individual_stocks_5yr/INTC_data.csv  \n",
            "  inflating: individual_stocks_5yr/MAC_data.csv  \n",
            "  inflating: individual_stocks_5yr/CLX_data.csv  \n",
            "  inflating: individual_stocks_5yr/UNP_data.csv  \n",
            "  inflating: individual_stocks_5yr/WAT_data.csv  \n",
            "  inflating: individual_stocks_5yr/EMN_data.csv  \n",
            "  inflating: individual_stocks_5yr/ADSK_data.csv  \n",
            "  inflating: individual_stocks_5yr/ALK_data.csv  \n",
            "  inflating: individual_stocks_5yr/VZ_data.csv  \n",
            "  inflating: individual_stocks_5yr/AFL_data.csv  \n",
            "  inflating: individual_stocks_5yr/ADP_data.csv  \n",
            "  inflating: individual_stocks_5yr/CSRA_data.csv  \n",
            "  inflating: individual_stocks_5yr/AON_data.csv  \n",
            "  inflating: individual_stocks_5yr/APC_data.csv  \n",
            "  inflating: individual_stocks_5yr/WRK_data.csv  \n",
            "  inflating: individual_stocks_5yr/XYL_data.csv  \n",
            "  inflating: individual_stocks_5yr/OMC_data.csv  \n",
            "  inflating: individual_stocks_5yr/SLB_data.csv  \n",
            "  inflating: individual_stocks_5yr/NOV_data.csv  \n",
            "  inflating: individual_stocks_5yr/CMA_data.csv  \n",
            "  inflating: individual_stocks_5yr/INFO_data.csv  \n",
            "  inflating: individual_stocks_5yr/CRM_data.csv  \n",
            "  inflating: individual_stocks_5yr/AMGN_data.csv  \n",
            "  inflating: individual_stocks_5yr/ED_data.csv  \n",
            "  inflating: individual_stocks_5yr/AIZ_data.csv  \n",
            "  inflating: individual_stocks_5yr/RSG_data.csv  \n",
            "  inflating: individual_stocks_5yr/NRG_data.csv  \n",
            "  inflating: individual_stocks_5yr/FLIR_data.csv  \n",
            "  inflating: individual_stocks_5yr/JPM_data.csv  \n",
            "  inflating: individual_stocks_5yr/HIG_data.csv  \n",
            "  inflating: individual_stocks_5yr/REGN_data.csv  \n",
            "  inflating: individual_stocks_5yr/UAL_data.csv  \n",
            "  inflating: individual_stocks_5yr/AZO_data.csv  \n",
            "  inflating: individual_stocks_5yr/STI_data.csv  \n",
            "  inflating: individual_stocks_5yr/MHK_data.csv  \n",
            "  inflating: individual_stocks_5yr/DFS_data.csv  \n",
            "  inflating: individual_stocks_5yr/MU_data.csv  \n",
            "  inflating: individual_stocks_5yr/LRCX_data.csv  \n",
            "  inflating: individual_stocks_5yr/HRB_data.csv  \n",
            "  inflating: individual_stocks_5yr/FOXA_data.csv  \n",
            "  inflating: individual_stocks_5yr/ISRG_data.csv  \n",
            "  inflating: individual_stocks_5yr/TEL_data.csv  \n",
            "  inflating: individual_stocks_5yr/BWA_data.csv  \n",
            "  inflating: individual_stocks_5yr/CAG_data.csv  \n",
            "  inflating: individual_stocks_5yr/SIG_data.csv  \n",
            "  inflating: individual_stocks_5yr/CHD_data.csv  \n",
            "  inflating: individual_stocks_5yr/FITB_data.csv  \n",
            "  inflating: individual_stocks_5yr/JNPR_data.csv  \n",
            "  inflating: individual_stocks_5yr/NFLX_data.csv  \n",
            "  inflating: individual_stocks_5yr/IFF_data.csv  \n",
            "  inflating: individual_stocks_5yr/EOG_data.csv  \n",
            "  inflating: individual_stocks_5yr/NEE_data.csv  \n",
            "  inflating: individual_stocks_5yr/SBUX_data.csv  \n",
            "  inflating: individual_stocks_5yr/RF_data.csv  \n",
            "  inflating: individual_stocks_5yr/.DS_Store  \n",
            "   creating: __MACOSX/\n",
            "   creating: __MACOSX/individual_stocks_5yr/\n",
            "  inflating: __MACOSX/individual_stocks_5yr/._.DS_Store  \n",
            "  inflating: individual_stocks_5yr/CNP_data.csv  \n",
            "  inflating: individual_stocks_5yr/COTY_data.csv  \n",
            "  inflating: individual_stocks_5yr/MCK_data.csv  \n",
            "  inflating: individual_stocks_5yr/HP_data.csv  \n",
            "  inflating: individual_stocks_5yr/MOS_data.csv  \n",
            "  inflating: individual_stocks_5yr/UA_data.csv  \n",
            "  inflating: individual_stocks_5yr/DHI_data.csv  \n",
            "  inflating: individual_stocks_5yr/KSU_data.csv  \n",
            "  inflating: individual_stocks_5yr/FLR_data.csv  \n",
            "  inflating: individual_stocks_5yr/FLS_data.csv  \n",
            "  inflating: individual_stocks_5yr/C_data.csv  \n",
            "  inflating: individual_stocks_5yr/TPR_data.csv  \n",
            "  inflating: individual_stocks_5yr/NTAP_data.csv  \n",
            "  inflating: individual_stocks_5yr/DLTR_data.csv  \n",
            "  inflating: individual_stocks_5yr/SNA_data.csv  \n",
            "  inflating: individual_stocks_5yr/AVGO_data.csv  \n",
            "  inflating: individual_stocks_5yr/ROP_data.csv  \n",
            "  inflating: individual_stocks_5yr/HOG_data.csv  \n",
            "  inflating: individual_stocks_5yr/RL_data.csv  \n",
            "  inflating: individual_stocks_5yr/MA_data.csv  \n",
            "  inflating: individual_stocks_5yr/MET_data.csv  \n",
            "  inflating: individual_stocks_5yr/LNC_data.csv  \n",
            "  inflating: individual_stocks_5yr/TAP_data.csv  \n",
            "  inflating: individual_stocks_5yr/WEC_data.csv  \n",
            "  inflating: individual_stocks_5yr/NAVI_data.csv  \n",
            "  inflating: individual_stocks_5yr/GPS_data.csv  \n",
            "  inflating: individual_stocks_5yr/EIX_data.csv  \n",
            "  inflating: individual_stocks_5yr/BHF_data.csv  \n",
            "  inflating: individual_stocks_5yr/GM_data.csv  \n",
            "  inflating: individual_stocks_5yr/NOC_data.csv  \n",
            "  inflating: individual_stocks_5yr/AVB_data.csv  \n",
            "  inflating: individual_stocks_5yr/SRCL_data.csv  \n",
            "  inflating: individual_stocks_5yr/EQR_data.csv  \n",
            "  inflating: individual_stocks_5yr/ANSS_data.csv  \n",
            "  inflating: individual_stocks_5yr/COST_data.csv  \n",
            "  inflating: individual_stocks_5yr/CTL_data.csv  \n",
            "  inflating: individual_stocks_5yr/AMG_data.csv  \n",
            "  inflating: individual_stocks_5yr/PCLN_data.csv  \n",
            "  inflating: individual_stocks_5yr/TRIP_data.csv  \n",
            "  inflating: individual_stocks_5yr/PSA_data.csv  \n",
            "  inflating: individual_stocks_5yr/UTX_data.csv  \n",
            "  inflating: individual_stocks_5yr/PGR_data.csv  \n",
            "  inflating: individual_stocks_5yr/IVZ_data.csv  \n",
            "  inflating: individual_stocks_5yr/GOOG_data.csv  \n",
            "  inflating: individual_stocks_5yr/LUK_data.csv  \n",
            "  inflating: individual_stocks_5yr/PKG_data.csv  \n",
            "  inflating: individual_stocks_5yr/BXP_data.csv  \n",
            "  inflating: individual_stocks_5yr/SRE_data.csv  \n",
            "  inflating: individual_stocks_5yr/ACN_data.csv  \n",
            "  inflating: individual_stocks_5yr/QRVO_data.csv  \n",
            "  inflating: individual_stocks_5yr/RJF_data.csv  \n",
            "  inflating: individual_stocks_5yr/XRAY_data.csv  \n",
            "  inflating: individual_stocks_5yr/DWDP_data.csv  \n",
            "  inflating: individual_stocks_5yr/CI_data.csv  \n",
            "  inflating: individual_stocks_5yr/KSS_data.csv  \n",
            "  inflating: individual_stocks_5yr/BHGE_data.csv  \n",
            "  inflating: individual_stocks_5yr/ADI_data.csv  \n",
            "  inflating: individual_stocks_5yr/JNJ_data.csv  \n",
            "  inflating: individual_stocks_5yr/DAL_data.csv  \n",
            "  inflating: individual_stocks_5yr/XL_data.csv  \n",
            "  inflating: individual_stocks_5yr/CHTR_data.csv  \n",
            "  inflating: individual_stocks_5yr/TDG_data.csv  \n",
            "  inflating: individual_stocks_5yr/EVHC_data.csv  \n",
            "  inflating: individual_stocks_5yr/D_data.csv  \n",
            "  inflating: individual_stocks_5yr/ORCL_data.csv  \n",
            "  inflating: individual_stocks_5yr/DGX_data.csv  \n",
            "  inflating: individual_stocks_5yr/CFG_data.csv  \n",
            "  inflating: individual_stocks_5yr/VRSN_data.csv  \n",
            "  inflating: individual_stocks_5yr/AJG_data.csv  \n",
            "  inflating: individual_stocks_5yr/UNH_data.csv  \n",
            "  inflating: individual_stocks_5yr/BIIB_data.csv  \n",
            "  inflating: individual_stocks_5yr/DE_data.csv  \n",
            "  inflating: individual_stocks_5yr/TXN_data.csv  \n",
            "  inflating: individual_stocks_5yr/KR_data.csv  \n",
            "  inflating: individual_stocks_5yr/AKAM_data.csv  \n",
            "  inflating: individual_stocks_5yr/TWX_data.csv  \n",
            "  inflating: individual_stocks_5yr/ETN_data.csv  \n",
            "  inflating: individual_stocks_5yr/VLO_data.csv  \n",
            "  inflating: individual_stocks_5yr/CINF_data.csv  \n",
            "  inflating: individual_stocks_5yr/PRGO_data.csv  \n",
            "  inflating: individual_stocks_5yr/PFG_data.csv  \n",
            "  inflating: individual_stocks_5yr/STZ_data.csv  \n",
            "  inflating: individual_stocks_5yr/AEP_data.csv  \n",
            "  inflating: individual_stocks_5yr/BAC_data.csv  \n",
            "  inflating: individual_stocks_5yr/PRU_data.csv  \n",
            "  inflating: individual_stocks_5yr/LLY_data.csv  \n",
            "  inflating: individual_stocks_5yr/NWSA_data.csv  \n",
            "  inflating: individual_stocks_5yr/ZBH_data.csv  \n",
            "  inflating: individual_stocks_5yr/NI_data.csv  \n",
            "  inflating: individual_stocks_5yr/EQT_data.csv  \n",
            "  inflating: individual_stocks_5yr/CMCSA_data.csv  \n",
            "  inflating: individual_stocks_5yr/TMO_data.csv  \n",
            "  inflating: individual_stocks_5yr/O_data.csv  \n",
            "  inflating: individual_stocks_5yr/IQV_data.csv  \n",
            "  inflating: individual_stocks_5yr/CMS_data.csv  \n",
            "  inflating: individual_stocks_5yr/EW_data.csv  \n",
            "  inflating: individual_stocks_5yr/COO_data.csv  \n",
            "  inflating: individual_stocks_5yr/CPB_data.csv  \n",
            "  inflating: individual_stocks_5yr/BDX_data.csv  \n",
            "  inflating: individual_stocks_5yr/GLW_data.csv  \n",
            "  inflating: individual_stocks_5yr/TIF_data.csv  \n",
            "  inflating: individual_stocks_5yr/CTXS_data.csv  \n",
            "  inflating: individual_stocks_5yr/MRO_data.csv  \n",
            "  inflating: individual_stocks_5yr/OKE_data.csv  \n",
            "  inflating: individual_stocks_5yr/MMC_data.csv  \n",
            "  inflating: individual_stocks_5yr/SCG_data.csv  \n",
            "  inflating: individual_stocks_5yr/LOW_data.csv  \n",
            "  inflating: individual_stocks_5yr/PNW_data.csv  \n",
            "  inflating: individual_stocks_5yr/VFC_data.csv  \n",
            "  inflating: individual_stocks_5yr/CB_data.csv  \n",
            "  inflating: individual_stocks_5yr/WMT_data.csv  \n",
            "  inflating: individual_stocks_5yr/NFX_data.csv  \n",
            "  inflating: individual_stocks_5yr/MTD_data.csv  \n",
            "  inflating: individual_stocks_5yr/ADBE_data.csv  \n",
            "  inflating: individual_stocks_5yr/COP_data.csv  \n",
            "  inflating: individual_stocks_5yr/AIV_data.csv  \n",
            "  inflating: individual_stocks_5yr/HES_data.csv  \n",
            "  inflating: individual_stocks_5yr/DLR_data.csv  \n",
            "  inflating: individual_stocks_5yr/KHC_data.csv  \n",
            "  inflating: individual_stocks_5yr/FISV_data.csv  \n",
            "  inflating: individual_stocks_5yr/GT_data.csv  \n",
            "  inflating: individual_stocks_5yr/VMC_data.csv  \n",
            "  inflating: individual_stocks_5yr/SWK_data.csv  \n",
            "  inflating: individual_stocks_5yr/ILMN_data.csv  \n",
            "  inflating: individual_stocks_5yr/PSX_data.csv  \n",
            "  inflating: individual_stocks_5yr/LMT_data.csv  \n",
            "  inflating: individual_stocks_5yr/ECL_data.csv  \n",
            "  inflating: individual_stocks_5yr/SNPS_data.csv  \n",
            "  inflating: individual_stocks_5yr/DUK_data.csv  \n",
            "  inflating: individual_stocks_5yr/GIS_data.csv  \n",
            "  inflating: individual_stocks_5yr/TSN_data.csv  \n",
            "  inflating: individual_stocks_5yr/XEC_data.csv  \n",
            "  inflating: individual_stocks_5yr/PH_data.csv  \n",
            "  inflating: individual_stocks_5yr/MCHP_data.csv  \n",
            "  inflating: individual_stocks_5yr/CNC_data.csv  \n",
            "  inflating: individual_stocks_5yr/ANTM_data.csv  \n",
            "  inflating: individual_stocks_5yr/IP_data.csv  \n",
            "  inflating: individual_stocks_5yr/UAA_data.csv  \n",
            "  inflating: individual_stocks_5yr/ANDV_data.csv  \n",
            "  inflating: individual_stocks_5yr/CCI_data.csv  \n",
            "  inflating: individual_stocks_5yr/CDNS_data.csv  \n",
            "  inflating: individual_stocks_5yr/CAT_data.csv  \n",
            "  inflating: individual_stocks_5yr/KMX_data.csv  \n",
            "  inflating: individual_stocks_5yr/CELG_data.csv  \n",
            "  inflating: individual_stocks_5yr/INCY_data.csv  \n",
            "  inflating: individual_stocks_5yr/CBOE_data.csv  \n",
            "  inflating: individual_stocks_5yr/ALL_data.csv  \n",
            "  inflating: individual_stocks_5yr/AMT_data.csv  \n",
            "  inflating: individual_stocks_5yr/MDT_data.csv  \n",
            "  inflating: individual_stocks_5yr/PNC_data.csv  \n",
            "  inflating: individual_stocks_5yr/APD_data.csv  \n",
            "  inflating: individual_stocks_5yr/HBAN_data.csv  \n",
            "  inflating: individual_stocks_5yr/EBAY_data.csv  \n",
            "  inflating: individual_stocks_5yr/BBY_data.csv  \n",
            "  inflating: individual_stocks_5yr/ICE_data.csv  \n",
            "  inflating: individual_stocks_5yr/WDC_data.csv  \n",
            "  inflating: individual_stocks_5yr/EXC_data.csv  \n",
            "  inflating: individual_stocks_5yr/TROW_data.csv  \n",
            "  inflating: individual_stocks_5yr/ZTS_data.csv  \n",
            "  inflating: individual_stocks_5yr/CMG_data.csv  \n",
            "  inflating: individual_stocks_5yr/TRV_data.csv  \n",
            "  inflating: individual_stocks_5yr/MKC_data.csv  \n",
            "  inflating: individual_stocks_5yr/ABC_data.csv  \n",
            "  inflating: __MACOSX/individual_stocks_5yr/._ABC_data.csv  \n",
            "  inflating: individual_stocks_5yr/FRT_data.csv  \n",
            "  inflating: individual_stocks_5yr/DVN_data.csv  \n",
            "  inflating: individual_stocks_5yr/VIAB_data.csv  \n",
            "  inflating: individual_stocks_5yr/ARNC_data.csv  \n",
            "  inflating: individual_stocks_5yr/LLL_data.csv  \n",
            "  inflating: individual_stocks_5yr/MNST_data.csv  \n",
            "  inflating: individual_stocks_5yr/LEN_data.csv  \n",
            "  inflating: individual_stocks_5yr/AEE_data.csv  \n",
            "  inflating: individual_stocks_5yr/MSI_data.csv  \n",
            "  inflating: individual_stocks_5yr/CSX_data.csv  \n",
            "  inflating: individual_stocks_5yr/PVH_data.csv  \n",
            "  inflating: individual_stocks_5yr/FL_data.csv  \n",
            "  inflating: individual_stocks_5yr/IRM_data.csv  \n",
            "  inflating: individual_stocks_5yr/DOV_data.csv  \n",
            "  inflating: individual_stocks_5yr/AAL_data.csv  \n",
            "  inflating: individual_stocks_5yr/SPG_data.csv  \n",
            "  inflating: individual_stocks_5yr/MS_data.csv  \n",
            "  inflating: individual_stocks_5yr/CSCO_data.csv  \n",
            "  inflating: individual_stocks_5yr/NVDA_data.csv  \n",
            "  inflating: individual_stocks_5yr/RRC_data.csv  \n",
            "  inflating: individual_stocks_5yr/PKI_data.csv  \n",
            "  inflating: individual_stocks_5yr/NSC_data.csv  \n",
            "  inflating: individual_stocks_5yr/BEN_data.csv  \n",
            "  inflating: individual_stocks_5yr/SBAC_data.csv  \n",
            "  inflating: individual_stocks_5yr/UNM_data.csv  \n",
            "  inflating: individual_stocks_5yr/VRSK_data.csv  \n",
            "  inflating: individual_stocks_5yr/NEM_data.csv  \n",
            "  inflating: individual_stocks_5yr/KLAC_data.csv  \n",
            "  inflating: individual_stocks_5yr/BLL_data.csv  \n",
            "  inflating: individual_stocks_5yr/EMR_data.csv  \n",
            "  inflating: individual_stocks_5yr/KMB_data.csv  \n",
            "  inflating: individual_stocks_5yr/DIS_data.csv  \n",
            "  inflating: individual_stocks_5yr/PPL_data.csv  \n",
            "  inflating: individual_stocks_5yr/AET_data.csv  \n",
            "  inflating: individual_stocks_5yr/ES_data.csv  \n",
            "  inflating: individual_stocks_5yr/UPS_data.csv  \n",
            "  inflating: individual_stocks_5yr/EXR_data.csv  \n",
            "  inflating: individual_stocks_5yr/ULTA_data.csv  \n",
            "  inflating: individual_stocks_5yr/GWW_data.csv  \n",
            "  inflating: individual_stocks_5yr/TMK_data.csv  \n",
            "  inflating: individual_stocks_5yr/K_data.csv  \n",
            "  inflating: individual_stocks_5yr/SNI_data.csv  \n",
            "  inflating: individual_stocks_5yr/GRMN_data.csv  \n",
            "  inflating: individual_stocks_5yr/CVS_data.csv  \n",
            "  inflating: individual_stocks_5yr/CF_data.csv  \n",
            "  inflating: individual_stocks_5yr/AMD_data.csv  \n",
            "  inflating: individual_stocks_5yr/PNR_data.csv  \n",
            "  inflating: individual_stocks_5yr/RHT_data.csv  \n",
            "  inflating: individual_stocks_5yr/AME_data.csv  \n",
            "  inflating: individual_stocks_5yr/APTV_data.csv  \n",
            "  inflating: individual_stocks_5yr/CTSH_data.csv  \n",
            "  inflating: individual_stocks_5yr/MRK_data.csv  \n",
            "  inflating: individual_stocks_5yr/WU_data.csv  \n",
            "  inflating: individual_stocks_5yr/IBM_data.csv  \n",
            "  inflating: individual_stocks_5yr/MSFT_data.csv  \n",
            "  inflating: individual_stocks_5yr/STT_data.csv  \n",
            "  inflating: individual_stocks_5yr/FMC_data.csv  \n",
            "  inflating: individual_stocks_5yr/UHS_data.csv  \n",
            "  inflating: individual_stocks_5yr/PPG_data.csv  \n",
            "  inflating: individual_stocks_5yr/KMI_data.csv  \n",
            "  inflating: individual_stocks_5yr/RE_data.csv  \n",
            "  inflating: individual_stocks_5yr/HON_data.csv  \n",
            "  inflating: individual_stocks_5yr/PX_data.csv  \n",
            "  inflating: individual_stocks_5yr/AAPL_data.csv  \n",
            "  inflating: __MACOSX/individual_stocks_5yr/._AAPL_data.csv  \n",
            "  inflating: individual_stocks_5yr/RMD_data.csv  \n",
            "  inflating: individual_stocks_5yr/MAT_data.csv  \n",
            "  inflating: individual_stocks_5yr/PEG_data.csv  \n",
            "  inflating: individual_stocks_5yr/INTU_data.csv  \n",
            "  inflating: individual_stocks_5yr/SHW_data.csv  \n",
            "  inflating: individual_stocks_5yr/KEY_data.csv  \n",
            "  inflating: individual_stocks_5yr/ADM_data.csv  \n",
            "  inflating: individual_stocks_5yr/MMM_data.csv  \n",
            "  inflating: individual_stocks_5yr/AOS_data.csv  \n",
            "  inflating: individual_stocks_5yr/CVX_data.csv  \n",
            "  inflating: individual_stocks_5yr/PLD_data.csv  \n",
            "  inflating: individual_stocks_5yr/CL_data.csv  \n",
            "  inflating: individual_stocks_5yr/DISH_data.csv  \n",
            "  inflating: individual_stocks_5yr/A_data.csv  \n",
            "  inflating: __MACOSX/individual_stocks_5yr/._A_data.csv  \n",
            "  inflating: individual_stocks_5yr/EQIX_data.csv  \n",
            "  inflating: individual_stocks_5yr/GE_data.csv  \n",
            "  inflating: individual_stocks_5yr/GD_data.csv  \n",
            "  inflating: individual_stocks_5yr/ALLE_data.csv  \n",
            "  inflating: individual_stocks_5yr/PHM_data.csv  \n",
            "  inflating: individual_stocks_5yr/AIG_data.csv  \n",
            "  inflating: individual_stocks_5yr/LKQ_data.csv  \n",
            "  inflating: individual_stocks_5yr/HSIC_data.csv  \n",
            "  inflating: individual_stocks_5yr/ADS_data.csv  \n",
            "  inflating: individual_stocks_5yr/VRTX_data.csv  \n",
            "  inflating: individual_stocks_5yr/MDLZ_data.csv  \n",
            "  inflating: individual_stocks_5yr/MON_data.csv  \n",
            "  inflating: individual_stocks_5yr/MPC_data.csv  \n",
            "  inflating: individual_stocks_5yr/APA_data.csv  \n",
            "  inflating: individual_stocks_5yr/BRK.B_data.csv  \n",
            "  inflating: individual_stocks_5yr/AMP_data.csv  \n",
            "  inflating: individual_stocks_5yr/FCX_data.csv  \n",
            "  inflating: individual_stocks_5yr/PCAR_data.csv  \n",
            "  inflating: individual_stocks_5yr/NLSN_data.csv  \n",
            "  inflating: individual_stocks_5yr/TJX_data.csv  \n",
            "  inflating: individual_stocks_5yr/PYPL_data.csv  \n",
            "  inflating: individual_stocks_5yr/FBHS_data.csv  \n",
            "  inflating: individual_stocks_5yr/AXP_data.csv  \n",
            "  inflating: individual_stocks_5yr/BA_data.csv  \n",
            "  inflating: individual_stocks_5yr/LNT_data.csv  \n",
            "  inflating: individual_stocks_5yr/ALB_data.csv  \n",
            "  inflating: individual_stocks_5yr/PG_data.csv  \n",
            "  inflating: individual_stocks_5yr/XEL_data.csv  \n",
            "  inflating: individual_stocks_5yr/ATVI_data.csv  \n",
            "  inflating: individual_stocks_5yr/FFIV_data.csv  \n",
            "  inflating: individual_stocks_5yr/EFX_data.csv  \n",
            "  inflating: individual_stocks_5yr/CMI_data.csv  \n",
            "  inflating: individual_stocks_5yr/EL_data.csv  \n",
            "  inflating: individual_stocks_5yr/ESS_data.csv  \n",
            "  inflating: individual_stocks_5yr/PCG_data.csv  \n",
            "  inflating: individual_stocks_5yr/ALGN_data.csv  \n",
            "  inflating: individual_stocks_5yr/KORS_data.csv  \n",
            "  inflating: individual_stocks_5yr/HSY_data.csv  \n",
            "  inflating: individual_stocks_5yr/HLT_data.csv  \n",
            "  inflating: individual_stocks_5yr/T_data.csv  \n",
            "  inflating: individual_stocks_5yr/CHRW_data.csv  \n",
            "  inflating: individual_stocks_5yr/AYI_data.csv  \n",
            "  inflating: individual_stocks_5yr/LYB_data.csv  \n",
            "  inflating: individual_stocks_5yr/HUM_data.csv  \n",
            "  inflating: individual_stocks_5yr/FB_data.csv  \n",
            "  inflating: individual_stocks_5yr/DRI_data.csv  \n",
            "  inflating: individual_stocks_5yr/SYK_data.csv  \n",
            "  inflating: individual_stocks_5yr/MAA_data.csv  \n",
            "  inflating: individual_stocks_5yr/SCHW_data.csv  \n",
            "  inflating: individual_stocks_5yr/USB_data.csv  \n",
            "  inflating: individual_stocks_5yr/TXT_data.csv  \n",
            "  inflating: individual_stocks_5yr/PM_data.csv  \n",
            "  inflating: individual_stocks_5yr/NTRS_data.csv  \n",
            "  inflating: individual_stocks_5yr/BAX_data.csv  \n",
            "  inflating: individual_stocks_5yr/ITW_data.csv  \n",
            "  inflating: individual_stocks_5yr/BK_data.csv  \n",
            "  inflating: individual_stocks_5yr/DVA_data.csv  \n",
            "  inflating: individual_stocks_5yr/GPN_data.csv  \n",
            "  inflating: individual_stocks_5yr/IT_data.csv  \n",
            "  inflating: individual_stocks_5yr/CCL_data.csv  \n",
            "  inflating: individual_stocks_5yr/SWKS_data.csv  \n",
            "  inflating: individual_stocks_5yr/HAS_data.csv  \n",
            "  inflating: individual_stocks_5yr/DHR_data.csv  \n",
            "  inflating: individual_stocks_5yr/WMB_data.csv  \n",
            "  inflating: individual_stocks_5yr/HCN_data.csv  \n",
            "  inflating: individual_stocks_5yr/CBS_data.csv  \n",
            "  inflating: individual_stocks_5yr/EA_data.csv  \n",
            "  inflating: individual_stocks_5yr/CME_data.csv  \n",
            "  inflating: individual_stocks_5yr/SEE_data.csv  \n",
            "  inflating: individual_stocks_5yr/VTR_data.csv  \n",
            "  inflating: individual_stocks_5yr/HST_data.csv  \n",
            "  inflating: individual_stocks_5yr/SLG_data.csv  \n",
            "  inflating: individual_stocks_5yr/JWN_data.csv  \n",
            "  inflating: individual_stocks_5yr/LB_data.csv  \n",
            "  inflating: individual_stocks_5yr/SO_data.csv  \n",
            "  inflating: individual_stocks_5yr/UDR_data.csv  \n",
            "  inflating: individual_stocks_5yr/ALXN_data.csv  \n",
            "  inflating: individual_stocks_5yr/NUE_data.csv  \n",
            "  inflating: individual_stocks_5yr/GPC_data.csv  \n",
            "  inflating: individual_stocks_5yr/FDX_data.csv  \n",
            "  inflating: individual_stocks_5yr/SYF_data.csv  \n",
            "  inflating: individual_stocks_5yr/LUV_data.csv  \n",
            "  inflating: individual_stocks_5yr/TGT_data.csv  \n",
            "  inflating: individual_stocks_5yr/VAR_data.csv  \n",
            "  inflating: individual_stocks_5yr/DISCA_data.csv  \n",
            "  inflating: individual_stocks_5yr/FIS_data.csv  \n",
            "  inflating: individual_stocks_5yr/EXPE_data.csv  \n",
            "  inflating: individual_stocks_5yr/EXPD_data.csv  \n",
            "  inflating: individual_stocks_5yr/DRE_data.csv  \n",
            "  inflating: individual_stocks_5yr/LH_data.csv  \n",
            "  inflating: individual_stocks_5yr/DXC_data.csv  \n",
            "  inflating: individual_stocks_5yr/REG_data.csv  \n",
            "  inflating: individual_stocks_5yr/PWR_data.csv  \n",
            "  inflating: individual_stocks_5yr/WLTW_data.csv  \n",
            "  inflating: individual_stocks_5yr/XOM_data.csv  \n",
            "  inflating: individual_stocks_5yr/IDXX_data.csv  \n",
            "  inflating: individual_stocks_5yr/AVY_data.csv  \n",
            "  inflating: individual_stocks_5yr/BF.B_data.csv  \n",
            "  inflating: individual_stocks_5yr/PXD_data.csv  \n",
            "  inflating: individual_stocks_5yr/WM_data.csv  \n",
            "  inflating: individual_stocks_5yr/AMAT_data.csv  \n",
            "  inflating: individual_stocks_5yr/JEC_data.csv  \n",
            "  inflating: individual_stocks_5yr/MYL_data.csv  \n",
            "  inflating: individual_stocks_5yr/ROST_data.csv  \n",
            "  inflating: individual_stocks_5yr/GOOGL_data.csv  \n",
            "  inflating: individual_stocks_5yr/BSX_data.csv  \n",
            "  inflating: individual_stocks_5yr/CXO_data.csv  \n",
            "  inflating: individual_stocks_5yr/HPQ_data.csv  \n",
            "  inflating: individual_stocks_5yr/WYNN_data.csv  \n",
            "  inflating: individual_stocks_5yr/PDCO_data.csv  \n",
            "  inflating: individual_stocks_5yr/HRL_data.csv  \n",
            "  inflating: individual_stocks_5yr/ROK_data.csv  \n",
            "  inflating: individual_stocks_5yr/FE_data.csv  \n",
            "  inflating: individual_stocks_5yr/WHR_data.csv  \n",
            "  inflating: individual_stocks_5yr/ETFC_data.csv  \n",
            "  inflating: individual_stocks_5yr/FTI_data.csv  \n",
            "  inflating: individual_stocks_5yr/AWK_data.csv  \n",
            "  inflating: individual_stocks_5yr/NDAQ_data.csv  \n",
            "  inflating: individual_stocks_5yr/DPS_data.csv  \n",
            "  inflating: individual_stocks_5yr/DISCK_data.csv  \n",
            "  inflating: individual_stocks_5yr/ETR_data.csv  \n",
            "  inflating: individual_stocks_5yr/VNO_data.csv  \n",
            "  inflating: individual_stocks_5yr/XLNX_data.csv  \n",
            "  inflating: individual_stocks_5yr/HII_data.csv  \n",
            "  inflating: individual_stocks_5yr/KO_data.csv  \n",
            "  inflating: individual_stocks_5yr/LEG_data.csv  \n",
            "  inflating: individual_stocks_5yr/IR_data.csv  \n",
            "  inflating: individual_stocks_5yr/MLM_data.csv  \n",
            "  inflating: individual_stocks_5yr/TSCO_data.csv  \n",
            "  inflating: individual_stocks_5yr/NWS_data.csv  \n",
            "  inflating: individual_stocks_5yr/RTN_data.csv  \n",
            "  inflating: individual_stocks_5yr/TSS_data.csv  \n",
            "  inflating: individual_stocks_5yr/HRS_data.csv  \n",
            "  inflating: individual_stocks_5yr/BLK_data.csv  \n",
            "  inflating: individual_stocks_5yr/GILD_data.csv  \n",
            "  inflating: individual_stocks_5yr/PAYX_data.csv  \n",
            "  inflating: individual_stocks_5yr/DG_data.csv  \n",
            "  inflating: individual_stocks_5yr/MCD_data.csv  \n",
            "  inflating: individual_stocks_5yr/FTV_data.csv  \n",
            "  inflating: individual_stocks_5yr/IPG_data.csv  \n",
            "  inflating: individual_stocks_5yr/KIM_data.csv  \n",
            "  inflating: individual_stocks_5yr/STX_data.csv  \n",
            "  inflating: individual_stocks_5yr/AES_data.csv  \n",
            "  inflating: individual_stocks_5yr/PFE_data.csv  \n",
            "  inflating: individual_stocks_5yr/YUM_data.csv  \n",
            "  inflating: individual_stocks_5yr/CAH_data.csv  \n",
            "  inflating: individual_stocks_5yr/AGN_data.csv  \n",
            "  inflating: individual_stocks_5yr/MGM_data.csv  \n",
            "  inflating: individual_stocks_5yr/CHK_data.csv  \n",
            "  inflating: individual_stocks_5yr/HBI_data.csv  \n",
            "  inflating: individual_stocks_5yr/DTE_data.csv  \n",
            "  inflating: individual_stocks_5yr/NWL_data.csv  \n",
            "  inflating: individual_stocks_5yr/M_data.csv  \n",
            "  inflating: individual_stocks_5yr/L_data.csv  \n",
            "  inflating: individual_stocks_5yr/ABT_data.csv  \n",
            "  inflating: individual_stocks_5yr/WBA_data.csv  \n",
            "  inflating: individual_stocks_5yr/BMY_data.csv  \n",
            "  inflating: individual_stocks_5yr/HOLX_data.csv  \n",
            "  inflating: individual_stocks_5yr/PBCT_data.csv  \n",
            "  inflating: individual_stocks_5yr/URI_data.csv  \n",
            "  inflating: individual_stocks_5yr/COL_data.csv  \n",
            "  inflating: individual_stocks_5yr/AMZN_data.csv  \n",
            "  inflating: individual_stocks_5yr/JCI_data.csv  \n",
            "  inflating: individual_stocks_5yr/CBG_data.csv  \n",
            "  inflating: individual_stocks_5yr/NCLH_data.csv  \n",
            "  inflating: individual_stocks_5yr/RCL_data.csv  \n",
            "  inflating: individual_stocks_5yr/NBL_data.csv  \n",
            "  inflating: individual_stocks_5yr/SYMC_data.csv  \n",
            "  inflating: individual_stocks_5yr/CA_data.csv  \n",
            "  inflating: individual_stocks_5yr/JBHT_data.csv  \n",
            "  inflating: individual_stocks_5yr/FOX_data.csv  \n",
            "  inflating: individual_stocks_5yr/FAST_data.csv  \n",
            "  inflating: individual_stocks_5yr/ZION_data.csv  \n",
            "  inflating: individual_stocks_5yr/ABBV_data.csv  \n",
            "  inflating: individual_stocks_5yr/MCO_data.csv  \n",
            "  inflating: individual_stocks_5yr/SYY_data.csv  \n",
            "  inflating: individual_stocks_5yr/MAS_data.csv  \n",
            "  inflating: __MACOSX/individual_stocks_5yr/._MAS_data.csv  \n",
            "  inflating: individual_stocks_5yr/OXY_data.csv  \n",
            "  inflating: individual_stocks_5yr/MAR_data.csv  \n",
            "  inflating: individual_stocks_5yr/AAP_data.csv  \n",
            "  inflating: individual_stocks_5yr/HPE_data.csv  \n",
            "  inflating: individual_stocks_5yr/MO_data.csv  \n",
            "  inflating: individual_stocks_5yr/ARE_data.csv  \n",
            "  inflating: individual_stocks_5yr/ORLY_data.csv  \n",
            "  inflating: individual_stocks_5yr/HCP_data.csv  \n",
            "  inflating: individual_stocks_5yr/NKE_data.csv  \n",
            "  inflating: individual_stocks_5yr/HAL_data.csv  \n",
            "  inflating: individual_stocks_5yr/CERN_data.csv  \n",
            "  inflating: individual_stocks_5yr/SJM_data.csv  \n",
            "  inflating: individual_stocks_5yr/WY_data.csv  \n",
            "  inflating: individual_stocks_5yr/WYN_data.csv  \n",
            "  inflating: individual_stocks_5yr/WFC_data.csv  \n",
            "  inflating: individual_stocks_5yr/QCOM_data.csv  \n",
            "  inflating: individual_stocks_5yr/COF_data.csv  \n",
            "  inflating: individual_stocks_5yr/COG_data.csv  \n",
            "  inflating: individual_stocks_5yr/F_data.csv  \n"
          ],
          "name": "stdout"
        }
      ]
    },
    {
      "metadata": {
        "id": "nYsXTA9lRpU2",
        "colab_type": "code",
        "colab": {
          "base_uri": "https://localhost:8080/",
          "height": 72
        },
        "outputId": "bea715cb-f0d1-4df6-8d22-54b553d01fc6"
      },
      "cell_type": "code",
      "source": [
        "!ls"
      ],
      "execution_count": 7,
      "outputs": [
        {
          "output_type": "stream",
          "text": [
            "all_stocks_5yr.csv     individual_stocks_5yr.zip  merge.sh\n",
            "getSandP.py\t       kaggle.json\t\t  sample_data\n",
            "individual_stocks_5yr  __MACOSX\t\t\t  sandp500.zip\n"
          ],
          "name": "stdout"
        }
      ]
    },
    {
      "metadata": {
        "id": "JJP2TYeRUPD1",
        "colab_type": "code",
        "colab": {
          "base_uri": "https://localhost:8080/",
          "height": 35
        },
        "outputId": "a21cdf66-fca2-4b52-e2fb-207a066e13b9"
      },
      "cell_type": "code",
      "source": [
        "# change directory to the individual 500 csv files \n",
        "%cd individual_stocks_5yr/"
      ],
      "execution_count": 8,
      "outputs": [
        {
          "output_type": "stream",
          "text": [
            "/content/individual_stocks_5yr\n"
          ],
          "name": "stdout"
        }
      ]
    },
    {
      "metadata": {
        "id": "MPIaTY14Tnrf",
        "colab_type": "code",
        "colab": {}
      },
      "cell_type": "code",
      "source": [
        "#Ingest company's stock data\n",
        "import pandas as pd\n",
        "df = pd.read_csv('AAP_data.csv')"
      ],
      "execution_count": 0,
      "outputs": []
    },
    {
      "metadata": {
        "id": "FsYsnVv1UCGu",
        "colab_type": "code",
        "colab": {
          "base_uri": "https://localhost:8080/",
          "height": 206
        },
        "outputId": "960163f5-6116-43ae-c577-126a9fd97975"
      },
      "cell_type": "code",
      "source": [
        "df.head()"
      ],
      "execution_count": 10,
      "outputs": [
        {
          "output_type": "execute_result",
          "data": {
            "text/html": [
              "<div>\n",
              "<style scoped>\n",
              "    .dataframe tbody tr th:only-of-type {\n",
              "        vertical-align: middle;\n",
              "    }\n",
              "\n",
              "    .dataframe tbody tr th {\n",
              "        vertical-align: top;\n",
              "    }\n",
              "\n",
              "    .dataframe thead th {\n",
              "        text-align: right;\n",
              "    }\n",
              "</style>\n",
              "<table border=\"1\" class=\"dataframe\">\n",
              "  <thead>\n",
              "    <tr style=\"text-align: right;\">\n",
              "      <th></th>\n",
              "      <th>date</th>\n",
              "      <th>open</th>\n",
              "      <th>high</th>\n",
              "      <th>low</th>\n",
              "      <th>close</th>\n",
              "      <th>volume</th>\n",
              "      <th>Name</th>\n",
              "    </tr>\n",
              "  </thead>\n",
              "  <tbody>\n",
              "    <tr>\n",
              "      <th>0</th>\n",
              "      <td>2013-02-08</td>\n",
              "      <td>78.34</td>\n",
              "      <td>79.72</td>\n",
              "      <td>78.0100</td>\n",
              "      <td>78.90</td>\n",
              "      <td>1298137</td>\n",
              "      <td>AAP</td>\n",
              "    </tr>\n",
              "    <tr>\n",
              "      <th>1</th>\n",
              "      <td>2013-02-11</td>\n",
              "      <td>78.65</td>\n",
              "      <td>78.91</td>\n",
              "      <td>77.2300</td>\n",
              "      <td>78.39</td>\n",
              "      <td>758016</td>\n",
              "      <td>AAP</td>\n",
              "    </tr>\n",
              "    <tr>\n",
              "      <th>2</th>\n",
              "      <td>2013-02-12</td>\n",
              "      <td>78.39</td>\n",
              "      <td>78.63</td>\n",
              "      <td>77.5132</td>\n",
              "      <td>78.60</td>\n",
              "      <td>876859</td>\n",
              "      <td>AAP</td>\n",
              "    </tr>\n",
              "    <tr>\n",
              "      <th>3</th>\n",
              "      <td>2013-02-13</td>\n",
              "      <td>78.90</td>\n",
              "      <td>79.13</td>\n",
              "      <td>77.8500</td>\n",
              "      <td>78.97</td>\n",
              "      <td>1038574</td>\n",
              "      <td>AAP</td>\n",
              "    </tr>\n",
              "    <tr>\n",
              "      <th>4</th>\n",
              "      <td>2013-02-14</td>\n",
              "      <td>78.66</td>\n",
              "      <td>79.72</td>\n",
              "      <td>78.5850</td>\n",
              "      <td>78.84</td>\n",
              "      <td>1005376</td>\n",
              "      <td>AAP</td>\n",
              "    </tr>\n",
              "  </tbody>\n",
              "</table>\n",
              "</div>"
            ],
            "text/plain": [
              "         date   open   high      low  close   volume Name\n",
              "0  2013-02-08  78.34  79.72  78.0100  78.90  1298137  AAP\n",
              "1  2013-02-11  78.65  78.91  77.2300  78.39   758016  AAP\n",
              "2  2013-02-12  78.39  78.63  77.5132  78.60   876859  AAP\n",
              "3  2013-02-13  78.90  79.13  77.8500  78.97  1038574  AAP\n",
              "4  2013-02-14  78.66  79.72  78.5850  78.84  1005376  AAP"
            ]
          },
          "metadata": {
            "tags": []
          },
          "execution_count": 10
        }
      ]
    },
    {
      "metadata": {
        "id": "nHJV0qPtYzW1",
        "colab_type": "code",
        "colab": {
          "base_uri": "https://localhost:8080/",
          "height": 206
        },
        "outputId": "99311b14-7d25-441e-dda1-e17271c93536"
      },
      "cell_type": "code",
      "source": [
        "df.tail()"
      ],
      "execution_count": 11,
      "outputs": [
        {
          "output_type": "execute_result",
          "data": {
            "text/html": [
              "<div>\n",
              "<style scoped>\n",
              "    .dataframe tbody tr th:only-of-type {\n",
              "        vertical-align: middle;\n",
              "    }\n",
              "\n",
              "    .dataframe tbody tr th {\n",
              "        vertical-align: top;\n",
              "    }\n",
              "\n",
              "    .dataframe thead th {\n",
              "        text-align: right;\n",
              "    }\n",
              "</style>\n",
              "<table border=\"1\" class=\"dataframe\">\n",
              "  <thead>\n",
              "    <tr style=\"text-align: right;\">\n",
              "      <th></th>\n",
              "      <th>date</th>\n",
              "      <th>open</th>\n",
              "      <th>high</th>\n",
              "      <th>low</th>\n",
              "      <th>close</th>\n",
              "      <th>volume</th>\n",
              "      <th>Name</th>\n",
              "    </tr>\n",
              "  </thead>\n",
              "  <tbody>\n",
              "    <tr>\n",
              "      <th>1254</th>\n",
              "      <td>2018-02-01</td>\n",
              "      <td>116.24</td>\n",
              "      <td>118.8300</td>\n",
              "      <td>115.830</td>\n",
              "      <td>117.29</td>\n",
              "      <td>760629</td>\n",
              "      <td>AAP</td>\n",
              "    </tr>\n",
              "    <tr>\n",
              "      <th>1255</th>\n",
              "      <td>2018-02-02</td>\n",
              "      <td>115.92</td>\n",
              "      <td>117.1800</td>\n",
              "      <td>113.125</td>\n",
              "      <td>113.93</td>\n",
              "      <td>1092333</td>\n",
              "      <td>AAP</td>\n",
              "    </tr>\n",
              "    <tr>\n",
              "      <th>1256</th>\n",
              "      <td>2018-02-05</td>\n",
              "      <td>113.05</td>\n",
              "      <td>114.9700</td>\n",
              "      <td>109.810</td>\n",
              "      <td>109.86</td>\n",
              "      <td>1281592</td>\n",
              "      <td>AAP</td>\n",
              "    </tr>\n",
              "    <tr>\n",
              "      <th>1257</th>\n",
              "      <td>2018-02-06</td>\n",
              "      <td>108.28</td>\n",
              "      <td>113.1100</td>\n",
              "      <td>106.745</td>\n",
              "      <td>112.20</td>\n",
              "      <td>1240784</td>\n",
              "      <td>AAP</td>\n",
              "    </tr>\n",
              "    <tr>\n",
              "      <th>1258</th>\n",
              "      <td>2018-02-07</td>\n",
              "      <td>112.09</td>\n",
              "      <td>114.5799</td>\n",
              "      <td>109.900</td>\n",
              "      <td>109.93</td>\n",
              "      <td>2163545</td>\n",
              "      <td>AAP</td>\n",
              "    </tr>\n",
              "  </tbody>\n",
              "</table>\n",
              "</div>"
            ],
            "text/plain": [
              "            date    open      high      low   close   volume Name\n",
              "1254  2018-02-01  116.24  118.8300  115.830  117.29   760629  AAP\n",
              "1255  2018-02-02  115.92  117.1800  113.125  113.93  1092333  AAP\n",
              "1256  2018-02-05  113.05  114.9700  109.810  109.86  1281592  AAP\n",
              "1257  2018-02-06  108.28  113.1100  106.745  112.20  1240784  AAP\n",
              "1258  2018-02-07  112.09  114.5799  109.900  109.93  2163545  AAP"
            ]
          },
          "metadata": {
            "tags": []
          },
          "execution_count": 11
        }
      ]
    },
    {
      "metadata": {
        "id": "NbWxJrEWUouF",
        "colab_type": "code",
        "colab": {
          "base_uri": "https://localhost:8080/",
          "height": 237
        },
        "outputId": "8a43e1f7-cea8-4333-f5e0-35a5d1761cd3"
      },
      "cell_type": "code",
      "source": [
        "\n",
        "\n",
        "# brief description of dataset\n",
        "df.info()\n",
        "\n"
      ],
      "execution_count": 12,
      "outputs": [
        {
          "output_type": "stream",
          "text": [
            "<class 'pandas.core.frame.DataFrame'>\n",
            "RangeIndex: 1259 entries, 0 to 1258\n",
            "Data columns (total 7 columns):\n",
            "date      1259 non-null object\n",
            "open      1259 non-null float64\n",
            "high      1259 non-null float64\n",
            "low       1259 non-null float64\n",
            "close     1259 non-null float64\n",
            "volume    1259 non-null int64\n",
            "Name      1259 non-null object\n",
            "dtypes: float64(4), int64(1), object(2)\n",
            "memory usage: 68.9+ KB\n"
          ],
          "name": "stdout"
        }
      ]
    },
    {
      "metadata": {
        "id": "otFcCOb5bAFf",
        "colab_type": "code",
        "colab": {}
      },
      "cell_type": "code",
      "source": [
        "#imports\n",
        "import datetime as dt\n",
        "import numpy as np\n",
        "from sklearn import linear_model\n",
        "import matplotlib.pyplot as plt\n",
        "import math\n",
        "from sklearn import preprocessing\n",
        "from sklearn import model_selection\n",
        "from sklearn.linear_model import LinearRegression\n",
        "from sklearn.metrics import *"
      ],
      "execution_count": 0,
      "outputs": []
    },
    {
      "metadata": {
        "id": "1uN0Kr1e-TvL",
        "colab_type": "code",
        "colab": {
          "base_uri": "https://localhost:8080/",
          "height": 601
        },
        "outputId": "b9b8ad0a-3142-4818-9c3e-f839faa99fe7"
      },
      "cell_type": "code",
      "source": [
        "# plot the data\n",
        "plt.figure(figsize = (18,9))\n",
        "plt.plot(range(df.shape[0]), df.close)\n",
        "plt.xticks(range(0,df.shape[0], 100), df.date.loc[::100],rotation=45)\n",
        "plt.xlabel('Date',fontsize=18)\n",
        "plt.ylabel('Closing Price',fontsize=18)\n",
        "plt.show()"
      ],
      "execution_count": 14,
      "outputs": [
        {
          "output_type": "display_data",
          "data": {
            "image/png": "[encoded data removed]",
            "text/plain": [
              "<Figure size 1296x648 with 1 Axes>"
            ]
          },
          "metadata": {
            "tags": []
          }
        }
      ]
    },
    {
      "metadata": {
        "id": "_OvIk9a384mg",
        "colab_type": "text"
      },
      "cell_type": "markdown",
      "source": [
        "### **Feature** **engineering**"
      ]
    },
    {
      "metadata": {
        "id": "xtN_GiEw9RSE",
        "colab_type": "code",
        "colab": {}
      },
      "cell_type": "code",
      "source": [
        "\n",
        "# Adding new columns based on values of existing columns\n",
        "df['HL_PCT'] = (df['high'] - df['close']) / df['close'] * 100\n",
        "df['PCT_change'] = (df['close'] - df['open']) / df['open'] * 100\n"
      ],
      "execution_count": 0,
      "outputs": []
    },
    {
      "metadata": {
        "id": "gdN8iwFrYqkO",
        "colab_type": "code",
        "colab": {}
      },
      "cell_type": "code",
      "source": [
        "# Selecting columns from dataframe that we perceive to be features.\n",
        "df = df[['close', 'HL_PCT', 'PCT_change', 'volume']]"
      ],
      "execution_count": 0,
      "outputs": []
    },
    {
      "metadata": {
        "id": "SyFoVWgYYJkf",
        "colab_type": "code",
        "colab": {}
      },
      "cell_type": "code",
      "source": [
        "forecast_col = 'close'"
      ],
      "execution_count": 0,
      "outputs": []
    },
    {
      "metadata": {
        "id": "BUNbdDBoV6cz",
        "colab_type": "code",
        "colab": {
          "base_uri": "https://localhost:8080/",
          "height": 35
        },
        "outputId": "b4f14cd4-0ef3-4b88-dc81-9bde0897bf3e"
      },
      "cell_type": "code",
      "source": [
        "df.isnull().any().sum()"
      ],
      "execution_count": 18,
      "outputs": [
        {
          "output_type": "execute_result",
          "data": {
            "text/plain": [
              "0"
            ]
          },
          "metadata": {
            "tags": []
          },
          "execution_count": 18
        }
      ]
    },
    {
      "metadata": {
        "id": "lm4MipG49g4k",
        "colab_type": "code",
        "colab": {
          "base_uri": "https://localhost:8080/",
          "height": 206
        },
        "outputId": "73052298-5514-405f-f239-9fdb4dd5ebdb"
      },
      "cell_type": "code",
      "source": [
        "df.head()"
      ],
      "execution_count": 19,
      "outputs": [
        {
          "output_type": "execute_result",
          "data": {
            "text/html": [
              "<div>\n",
              "<style scoped>\n",
              "    .dataframe tbody tr th:only-of-type {\n",
              "        vertical-align: middle;\n",
              "    }\n",
              "\n",
              "    .dataframe tbody tr th {\n",
              "        vertical-align: top;\n",
              "    }\n",
              "\n",
              "    .dataframe thead th {\n",
              "        text-align: right;\n",
              "    }\n",
              "</style>\n",
              "<table border=\"1\" class=\"dataframe\">\n",
              "  <thead>\n",
              "    <tr style=\"text-align: right;\">\n",
              "      <th></th>\n",
              "      <th>close</th>\n",
              "      <th>HL_PCT</th>\n",
              "      <th>PCT_change</th>\n",
              "      <th>volume</th>\n",
              "    </tr>\n",
              "  </thead>\n",
              "  <tbody>\n",
              "    <tr>\n",
              "      <th>0</th>\n",
              "      <td>78.90</td>\n",
              "      <td>1.039290</td>\n",
              "      <td>0.714833</td>\n",
              "      <td>1298137</td>\n",
              "    </tr>\n",
              "    <tr>\n",
              "      <th>1</th>\n",
              "      <td>78.39</td>\n",
              "      <td>0.663350</td>\n",
              "      <td>-0.330579</td>\n",
              "      <td>758016</td>\n",
              "    </tr>\n",
              "    <tr>\n",
              "      <th>2</th>\n",
              "      <td>78.60</td>\n",
              "      <td>0.038168</td>\n",
              "      <td>0.267891</td>\n",
              "      <td>876859</td>\n",
              "    </tr>\n",
              "    <tr>\n",
              "      <th>3</th>\n",
              "      <td>78.97</td>\n",
              "      <td>0.202609</td>\n",
              "      <td>0.088720</td>\n",
              "      <td>1038574</td>\n",
              "    </tr>\n",
              "    <tr>\n",
              "      <th>4</th>\n",
              "      <td>78.84</td>\n",
              "      <td>1.116185</td>\n",
              "      <td>0.228833</td>\n",
              "      <td>1005376</td>\n",
              "    </tr>\n",
              "  </tbody>\n",
              "</table>\n",
              "</div>"
            ],
            "text/plain": [
              "   close    HL_PCT  PCT_change   volume\n",
              "0  78.90  1.039290    0.714833  1298137\n",
              "1  78.39  0.663350   -0.330579   758016\n",
              "2  78.60  0.038168    0.267891   876859\n",
              "3  78.97  0.202609    0.088720  1038574\n",
              "4  78.84  1.116185    0.228833  1005376"
            ]
          },
          "metadata": {
            "tags": []
          },
          "execution_count": 19
        }
      ]
    },
    {
      "metadata": {
        "id": "z7HDLmcsdIS4",
        "colab_type": "code",
        "colab": {
          "base_uri": "https://localhost:8080/",
          "height": 300
        },
        "outputId": "8d228c69-4690-41db-85e2-3642668b978f"
      },
      "cell_type": "code",
      "source": [
        "df.describe()"
      ],
      "execution_count": 20,
      "outputs": [
        {
          "output_type": "execute_result",
          "data": {
            "text/html": [
              "<div>\n",
              "<style scoped>\n",
              "    .dataframe tbody tr th:only-of-type {\n",
              "        vertical-align: middle;\n",
              "    }\n",
              "\n",
              "    .dataframe tbody tr th {\n",
              "        vertical-align: top;\n",
              "    }\n",
              "\n",
              "    .dataframe thead th {\n",
              "        text-align: right;\n",
              "    }\n",
              "</style>\n",
              "<table border=\"1\" class=\"dataframe\">\n",
              "  <thead>\n",
              "    <tr style=\"text-align: right;\">\n",
              "      <th></th>\n",
              "      <th>close</th>\n",
              "      <th>HL_PCT</th>\n",
              "      <th>PCT_change</th>\n",
              "      <th>volume</th>\n",
              "    </tr>\n",
              "  </thead>\n",
              "  <tbody>\n",
              "    <tr>\n",
              "      <th>count</th>\n",
              "      <td>1259.000000</td>\n",
              "      <td>1259.000000</td>\n",
              "      <td>1259.000000</td>\n",
              "      <td>1.259000e+03</td>\n",
              "    </tr>\n",
              "    <tr>\n",
              "      <th>mean</th>\n",
              "      <td>132.433463</td>\n",
              "      <td>1.058576</td>\n",
              "      <td>0.003594</td>\n",
              "      <td>1.078043e+06</td>\n",
              "    </tr>\n",
              "    <tr>\n",
              "      <th>std</th>\n",
              "      <td>31.274463</td>\n",
              "      <td>0.971318</td>\n",
              "      <td>1.397287</td>\n",
              "      <td>1.019365e+06</td>\n",
              "    </tr>\n",
              "    <tr>\n",
              "      <th>min</th>\n",
              "      <td>76.180000</td>\n",
              "      <td>0.000000</td>\n",
              "      <td>-5.555556</td>\n",
              "      <td>1.307120e+05</td>\n",
              "    </tr>\n",
              "    <tr>\n",
              "      <th>25%</th>\n",
              "      <td>104.440000</td>\n",
              "      <td>0.366689</td>\n",
              "      <td>-0.749448</td>\n",
              "      <td>6.182010e+05</td>\n",
              "    </tr>\n",
              "    <tr>\n",
              "      <th>50%</th>\n",
              "      <td>141.300000</td>\n",
              "      <td>0.822876</td>\n",
              "      <td>-0.014895</td>\n",
              "      <td>8.491350e+05</td>\n",
              "    </tr>\n",
              "    <tr>\n",
              "      <th>75%</th>\n",
              "      <td>156.730000</td>\n",
              "      <td>1.460416</td>\n",
              "      <td>0.719552</td>\n",
              "      <td>1.219762e+06</td>\n",
              "    </tr>\n",
              "    <tr>\n",
              "      <th>max</th>\n",
              "      <td>200.380000</td>\n",
              "      <td>7.507289</td>\n",
              "      <td>9.230876</td>\n",
              "      <td>1.974952e+07</td>\n",
              "    </tr>\n",
              "  </tbody>\n",
              "</table>\n",
              "</div>"
            ],
            "text/plain": [
              "             close       HL_PCT   PCT_change        volume\n",
              "count  1259.000000  1259.000000  1259.000000  1.259000e+03\n",
              "mean    132.433463     1.058576     0.003594  1.078043e+06\n",
              "std      31.274463     0.971318     1.397287  1.019365e+06\n",
              "min      76.180000     0.000000    -5.555556  1.307120e+05\n",
              "25%     104.440000     0.366689    -0.749448  6.182010e+05\n",
              "50%     141.300000     0.822876    -0.014895  8.491350e+05\n",
              "75%     156.730000     1.460416     0.719552  1.219762e+06\n",
              "max     200.380000     7.507289     9.230876  1.974952e+07"
            ]
          },
          "metadata": {
            "tags": []
          },
          "execution_count": 20
        }
      ]
    },
    {
      "metadata": {
        "id": "h9TqRanrcy-4",
        "colab_type": "code",
        "colab": {}
      },
      "cell_type": "code",
      "source": [
        "# Take a percentage of the length of dataset as number of days to shift label by.\n",
        "forecast_out = int(math.ceil(0.01 * len(df)))"
      ],
      "execution_count": 0,
      "outputs": []
    },
    {
      "metadata": {
        "id": "v0iZE61RdUU3",
        "colab_type": "code",
        "colab": {}
      },
      "cell_type": "code",
      "source": [
        "# Shift the value of label by the number of days determined by forecast_out.\n",
        "df['label'] = df[forecast_col].shift(-forecast_out)\n",
        "df.dropna(inplace=True)"
      ],
      "execution_count": 0,
      "outputs": []
    },
    {
      "metadata": {
        "id": "R4zGxprxg746",
        "colab_type": "code",
        "colab": {}
      },
      "cell_type": "code",
      "source": [
        "\n",
        "# Selecting features.\n",
        "X = np.array(df.drop(['label'], 1))\n",
        "\n"
      ],
      "execution_count": 0,
      "outputs": []
    },
    {
      "metadata": {
        "id": "brQbOsUIhI_5",
        "colab_type": "code",
        "colab": {}
      },
      "cell_type": "code",
      "source": [
        "# Standardize our data center to the mean.\n",
        "X = preprocessing.scale(X)\n",
        "df.dropna(inplace=True)\n"
      ],
      "execution_count": 0,
      "outputs": []
    },
    {
      "metadata": {
        "id": "aYyKHCrFhMSg",
        "colab_type": "code",
        "colab": {}
      },
      "cell_type": "code",
      "source": [
        "\n",
        "# Selecting label\n",
        "y = np.array(df['label'])\n"
      ],
      "execution_count": 0,
      "outputs": []
    },
    {
      "metadata": {
        "id": "MsCXGpfNhdzq",
        "colab_type": "code",
        "colab": {
          "base_uri": "https://localhost:8080/",
          "height": 35
        },
        "outputId": "53dc95fe-a646-4e57-e687-5c877c33f8ea"
      },
      "cell_type": "code",
      "source": [
        "y"
      ],
      "execution_count": 26,
      "outputs": [
        {
          "output_type": "execute_result",
          "data": {
            "text/plain": [
              "array([ 76.34,  76.37,  77.02, ..., 109.86, 112.2 , 109.93])"
            ]
          },
          "metadata": {
            "tags": []
          },
          "execution_count": 26
        }
      ]
    },
    {
      "metadata": {
        "id": "thlGTI1kheuF",
        "colab_type": "code",
        "colab": {}
      },
      "cell_type": "code",
      "source": [
        "\n",
        "# This \"shuffles\" our data and returns 2 pairs of data sets whose members are connected.\n",
        "X_train, X_test, y_train, y_test = model_selection.train_test_split(X, y, test_size=0.2)\n",
        "\n"
      ],
      "execution_count": 0,
      "outputs": []
    },
    {
      "metadata": {
        "id": "fH3tY35Zhtq7",
        "colab_type": "code",
        "colab": {}
      },
      "cell_type": "code",
      "source": [
        "# Selecting our Regressor\n",
        "rg = LinearRegression()\n"
      ],
      "execution_count": 0,
      "outputs": []
    },
    {
      "metadata": {
        "id": "UPCr7o5bhzzv",
        "colab_type": "code",
        "colab": {}
      },
      "cell_type": "code",
      "source": [
        "\n",
        "# Train our Classifier using the training data\n",
        "model =rg.fit(X_train, y_train)\n"
      ],
      "execution_count": 0,
      "outputs": []
    },
    {
      "metadata": {
        "id": "BgRouPdHiGAH",
        "colab_type": "code",
        "colab": {}
      },
      "cell_type": "code",
      "source": [
        "\n",
        "# Generate predictions\n",
        "y_preds = model.predict(X_test)\n"
      ],
      "execution_count": 0,
      "outputs": []
    },
    {
      "metadata": {
        "id": "uByyd3jVihB2",
        "colab_type": "code",
        "colab": {
          "base_uri": "https://localhost:8080/",
          "height": 72
        },
        "outputId": "e01758dc-8342-4568-8629-56a4c418b152"
      },
      "cell_type": "code",
      "source": [
        "\n",
        "# model evaluation\n",
        "rmse = (mean_squared_error(y_test,y_preds)) ** 0.5\n",
        "\n",
        "print('The r2_score = {}'.format(r2_score(y_test,y_preds)))\n",
        "print('The MSE = {}'.format(mean_squared_error(y_test,y_preds)))\n",
        "print('The RMSE = {}'.format(rmse))"
      ],
      "execution_count": 31,
      "outputs": [
        {
          "output_type": "stream",
          "text": [
            "The r2_score = 0.930632157769162\n",
            "The MSE = 63.25280486492791\n",
            "The RMSE = 7.953163198685659\n"
          ],
          "name": "stdout"
        }
      ]
    },
    {
      "metadata": {
        "id": "vz-1QgU0B6Am",
        "colab_type": "code",
        "colab": {}
      },
      "cell_type": "code",
      "source": [
        ""
      ],
      "execution_count": 0,
      "outputs": []
    }
  ]
}